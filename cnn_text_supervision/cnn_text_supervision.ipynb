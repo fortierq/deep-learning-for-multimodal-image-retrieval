{
 "cells": [
  {
   "cell_type": "markdown",
   "metadata": {},
   "source": [
    "# Training a CNN with Text Supervision"
   ]
  },
  {
   "cell_type": "code",
   "execution_count": 1,
   "metadata": {},
   "outputs": [
    {
     "data": {
      "text/plain": [
       "True"
      ]
     },
     "execution_count": 1,
     "metadata": {},
     "output_type": "execute_result"
    }
   ],
   "source": [
    "import torch\n",
    "from torchvision import models\n",
    "from torch.utils.data import DataLoader\n",
    "import torch.nn as nn\n",
    "from instadata import InstaData\n",
    "from pathlib import Path\n",
    "\n",
    "torch.cuda.is_available()\n",
    "# dir(models)"
   ]
  },
  {
   "cell_type": "code",
   "execution_count": 2,
   "metadata": {},
   "outputs": [],
   "source": [
    "model = models.resnet50(pretrained=True)"
   ]
  },
  {
   "cell_type": "code",
   "execution_count": 3,
   "metadata": {},
   "outputs": [
    {
     "data": {
      "text/plain": [
       "('1487178468994916801',\n",
       " tensor([[[1.5982, 1.5468, 1.5639,  ..., 2.0605, 2.0434, 2.0605],\n",
       "          [1.7694, 1.8037, 1.8550,  ..., 2.0605, 2.0605, 2.0777],\n",
       "          [1.4612, 1.3755, 1.5639,  ..., 1.9920, 2.0434, 2.1633],\n",
       "          ...,\n",
       "          [1.5810, 1.5810, 1.5810,  ..., 1.2728, 1.2385, 1.2557],\n",
       "          [1.5810, 1.5810, 1.5810,  ..., 1.4269, 1.3584, 1.3413],\n",
       "          [1.5639, 1.5639, 1.5639,  ..., 1.5468, 1.4612, 1.3927]],\n",
       " \n",
       "         [[1.6232, 1.5707, 1.5882,  ..., 2.2185, 2.2010, 2.2185],\n",
       "          [1.7983, 1.8333, 1.8859,  ..., 2.2185, 2.2185, 2.2360],\n",
       "          [1.5182, 1.4307, 1.6232,  ..., 2.1485, 2.2010, 2.3235],\n",
       "          ...,\n",
       "          [1.5707, 1.5707, 1.5707,  ..., 1.2556, 1.2206, 1.2381],\n",
       "          [1.5707, 1.5707, 1.5707,  ..., 1.4132, 1.3431, 1.3256],\n",
       "          [1.5532, 1.5532, 1.5532,  ..., 1.5357, 1.4482, 1.3782]],\n",
       " \n",
       "         [[1.6465, 1.5942, 1.6117,  ..., 2.3611, 2.3437, 2.3611],\n",
       "          [1.8208, 1.8557, 1.9080,  ..., 2.3611, 2.3611, 2.3786],\n",
       "          [1.5245, 1.4374, 1.6291,  ..., 2.2914, 2.3437, 2.4657],\n",
       "          ...,\n",
       "          [1.6291, 1.6291, 1.6291,  ..., 1.4374, 1.4025, 1.4200],\n",
       "          [1.6291, 1.6291, 1.6291,  ..., 1.5942, 1.5245, 1.5071],\n",
       "          [1.6117, 1.6117, 1.6117,  ..., 1.7163, 1.6291, 1.5594]]]),\n",
       " tensor([0.5278, 0.5606, 1.0000, 0.3599, 0.0000, 0.6144, 0.7617, 0.2512, 0.5061,\n",
       "         0.7375, 0.6884, 0.3897, 0.3498, 0.5567, 0.6206, 0.6499, 0.6206, 0.5722,\n",
       "         0.4722, 0.9074], dtype=torch.float64))"
      ]
     },
     "execution_count": 3,
     "metadata": {},
     "output_type": "execute_result"
    }
   ],
   "source": [
    "batch_size = 64\n",
    "workers = 12\n",
    "criterion = nn.BCEWithLogitsLoss()\n",
    "# model = model.Model(embedding_dimensionality=embedding_dimensionality).cuda(gpu) # Create ResNet50 model with custom number of outputs\n",
    "optimizer = torch.optim.Adam(model.parameters(), 0.01) \n",
    "train_dataset = InstaData(\"train\")\n",
    "val_dataset = InstaData(\"validate\")\n",
    "test_dataset = InstaData(\"test\")\n",
    "train_loader = torch.utils.data.DataLoader(train_dataset, batch_size=batch_size, shuffle=True, num_workers=workers,pin_memory=True)\n",
    "val_loader = torch.utils.data.DataLoader(val_dataset, batch_size=batch_size, shuffle=True, num_workers=workers,pin_memory=True)\n",
    "test_loader = torch.utils.data.DataLoader(test_dataset, batch_size=batch_size, shuffle=True, num_workers=workers,pin_memory=True)\n",
    "train_dataset[0]"
   ]
  },
  {
   "cell_type": "code",
   "execution_count": null,
   "metadata": {},
   "outputs": [],
   "source": []
  }
 ],
 "metadata": {
  "kernelspec": {
   "display_name": "Python 3.8.5 64-bit ('env')",
   "language": "python",
   "name": "python38564bitenv2280e778894a4fb7a6fe7135f3178fe5"
  },
  "language_info": {
   "codemirror_mode": {
    "name": "ipython",
    "version": 3
   },
   "file_extension": ".py",
   "mimetype": "text/x-python",
   "name": "python",
   "nbconvert_exporter": "python",
   "pygments_lexer": "ipython3",
   "version": "3.8.5"
  },
  "metadata": {
   "interpreter": {
    "hash": "31f2aee4e71d21fbe5cf8b01ff0e069b9275f58929596ceb00d14d90e3e16cd6"
   }
  }
 },
 "nbformat": 4,
 "nbformat_minor": 2
}
