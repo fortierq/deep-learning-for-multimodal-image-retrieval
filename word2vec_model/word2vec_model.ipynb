{
 "metadata": {
  "language_info": {
   "codemirror_mode": {
    "name": "ipython",
    "version": 3
   },
   "file_extension": ".py",
   "mimetype": "text/x-python",
   "name": "python",
   "nbconvert_exporter": "python",
   "pygments_lexer": "ipython3",
   "version": "3.8.5-final"
  },
  "orig_nbformat": 2,
  "kernelspec": {
   "name": "python38564bitd3062a9d535948728b3cdbf50ee7ab6e",
   "display_name": "Python 3.8.5 64-bit",
   "language": "python"
  }
 },
 "nbformat": 4,
 "nbformat_minor": 2,
 "cells": [
  {
   "source": [
    "# Load and preprocess data "
   ],
   "cell_type": "markdown",
   "metadata": {}
  },
  {
   "cell_type": "code",
   "execution_count": 10,
   "metadata": {},
   "outputs": [
    {
     "output_type": "stream",
     "name": "stdout",
     "text": [
      "[['human', 'interface', 'computer'], ['survey', 'user', 'computer', 'system', 'response', 'time'], ['eps', 'user', 'interface', 'system'], ['system', 'human', 'system', 'eps'], ['user', 'response', 'time'], ['trees'], ['graph', 'trees'], ['graph', 'minors', 'trees'], ['graph', 'minors', 'survey']]\n"
     ]
    }
   ],
   "source": [
    "from gensim.test.utils import common_texts\n",
    "print(common_texts)"
   ]
  },
  {
   "cell_type": "code",
   "execution_count": 3,
   "metadata": {},
   "outputs": [],
   "source": [
    "stop_words = set([\"i\", \"me\", \"my\", \"myself\", \"we\", \"our\", \"ours\", \"ourselves\", \"you\", \"your\", \"yours\", \"yourself\", \"yourselves\", \"he\", \"him\", \"his\", \"himself\", \"she\", \"her\", \"hers\", \"herself\", \"it\", \"its\", \"itself\", \"they\", \"them\", \"their\", \"theirs\", \"themselves\", \"what\", \"which\", \"who\", \"whom\", \"this\", \"that\", \"these\", \"those\", \"am\", \"is\", \"are\", \"was\", \"were\", \"be\", \"been\", \"being\", \"have\", \"has\", \"had\", \"having\", \"do\", \"does\", \"did\", \"doing\", \"a\", \"an\", \"the\", \"and\", \"but\", \"if\", \"or\", \"because\", \"as\", \"until\", \"while\", \"of\", \"at\", \"by\", \"for\", \"with\", \"about\", \"against\", \"between\", \"into\", \"through\", \"during\", \"before\", \"after\", \"above\", \"below\", \"to\", \"from\", \"up\", \"down\", \"in\", \"out\", \"on\", \"off\", \"over\", \"under\", \"again\", \"further\", \"then\", \"once\", \"here\", \"there\", \"when\", \"where\", \"why\", \"how\", \"all\", \"any\", \"both\", \"each\", \"few\", \"more\", \"most\", \"other\", \"some\", \"such\", \"no\", \"nor\", \"not\", \"only\", \"own\", \"same\", \"so\", \"than\", \"too\", \"very\", \"s\", \"t\", \"can\", \"will\", \"just\", \"don\", \"should\", \"now\"])"
   ]
  },
  {
   "cell_type": "code",
   "execution_count": 27,
   "metadata": {},
   "outputs": [],
   "source": [
    "from pathlib import Path\n",
    "import re\n",
    "\n",
    "def rm_stop(s):\n",
    "    return ' '.join([w for w in s.split() if w not in stop_words])\n",
    "\n",
    "def preprocess(w):\n",
    "    return rm_stop(re.sub(\"[^a-zA-Z ]\", '', w).lower())\n",
    "\n",
    "class InstaCities:\n",
    "    def __iter__(self):\n",
    "        for f in Path(\"../InstaCities1M\").glob(\"**/*.txt\"):\n",
    "            yield preprocess(f.read_text()).split()"
   ]
  },
  {
   "source": [
    "# Word2Vec model"
   ],
   "cell_type": "markdown",
   "metadata": {}
  },
  {
   "cell_type": "code",
   "execution_count": 28,
   "metadata": {},
   "outputs": [],
   "source": [
    "import gensim.models\n",
    "\n",
    "sentences = InstaCities()\n",
    "model = gensim.models.Word2Vec(sentences=sentences, vector_size=100, window=5, min_count=5, workers=4)\n",
    "model.save(\"model_insta_cities\")"
   ]
  },
  {
   "cell_type": "code",
   "execution_count": 29,
   "metadata": {},
   "outputs": [
    {
     "output_type": "execute_result",
     "data": {
      "text/plain": [
       "[('town', 0.637067973613739),\n",
       " ('buildings', 0.6352139115333557),\n",
       " ('streets', 0.6173369288444519),\n",
       " ('place', 0.6166399717330933),\n",
       " ('cities', 0.6086874008178711),\n",
       " ('building', 0.5980123281478882),\n",
       " ('world', 0.5960747003555298),\n",
       " ('citys', 0.5865464806556702),\n",
       " ('skyline', 0.581667423248291),\n",
       " ('downtown', 0.5648966431617737)]"
      ]
     },
     "metadata": {},
     "execution_count": 29
    }
   ],
   "source": [
    "model.wv.most_similar('city', topn=10)"
   ]
  },
  {
   "cell_type": "code",
   "execution_count": 20,
   "metadata": {},
   "outputs": [],
   "source": [
    "m = gensim.models.Word2Vec.load(\"insta_model\")"
   ]
  },
  {
   "cell_type": "code",
   "execution_count": 30,
   "metadata": {},
   "outputs": [
    {
     "output_type": "execute_result",
     "data": {
      "text/plain": [
       "array([-1.106917  , -0.11296211, -1.1310358 , -3.4260733 , -1.2574886 ,\n",
       "        1.7972685 , -0.53039217, -2.650177  , -1.5144856 ,  0.06453241,\n",
       "       -2.8981159 , -0.0652907 ,  0.51597756,  0.3370271 , -0.61656916,\n",
       "       -2.552414  , -1.974278  , -0.7578215 ,  0.9173686 ,  0.08199975,\n",
       "       -0.37751952, -0.49216005, -1.3736392 , -0.5455571 ,  2.3879406 ,\n",
       "       -0.13169296, -1.1883484 , -1.5195134 ,  1.7245097 , -1.7977793 ,\n",
       "        4.181745  ,  0.10991333,  1.1660666 ,  2.1709974 , -0.34666982,\n",
       "       -0.14149979, -3.0875757 ,  1.9729496 ,  0.6259466 , -1.8302453 ,\n",
       "       -0.7128467 ,  1.3001782 , -2.6083422 ,  1.1591015 ,  1.2557532 ,\n",
       "        0.90086734,  3.8207924 ,  0.73897517, -2.595115  , -0.4841028 ,\n",
       "       -1.5725758 ,  2.8149784 ,  2.3918238 ,  1.15878   ,  1.7592446 ,\n",
       "       -2.4271233 ,  0.9674965 ,  0.41255128,  0.10445926, -2.5741484 ,\n",
       "        1.0947787 ,  0.15359658, -0.74643195,  1.1419785 , -1.5972027 ,\n",
       "        0.4852872 , -0.32440928,  2.6514874 , -0.740811  ,  1.4401128 ,\n",
       "        1.1130743 ,  1.0577581 ,  0.5028963 ,  0.06551113, -1.5927813 ,\n",
       "       -1.096104  ,  1.386057  , -1.5389545 ,  0.61623085,  2.2432766 ,\n",
       "        1.9195783 , -2.2383316 , -0.6057194 , -1.3319117 ,  0.30008343,\n",
       "        1.6220881 , -1.2191164 ,  3.8970854 , -0.34936747,  0.5861906 ,\n",
       "       -1.5712079 , -1.625788  ,  2.7237542 , -2.4365005 , -1.9537338 ,\n",
       "       -0.21348655, -1.2607815 , -1.2837477 ,  2.5063355 , -0.27484673],\n",
       "      dtype=float32)"
      ]
     },
     "metadata": {},
     "execution_count": 30
    }
   ],
   "source": [
    "model.wv.get_vector(\"season\")\n"
   ]
  },
  {
   "cell_type": "code",
   "execution_count": 31,
   "metadata": {},
   "outputs": [
    {
     "output_type": "execute_result",
     "data": {
      "text/plain": [
       "0.6370679"
      ]
     },
     "metadata": {},
     "execution_count": 31
    }
   ],
   "source": [
    "model.wv.similarity(\"city\", \"town\")"
   ]
  }
 ]
}